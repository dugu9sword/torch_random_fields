{
 "cells": [
  {
   "cell_type": "code",
   "execution_count": 1,
   "metadata": {},
   "outputs": [],
   "source": [
    "%load_ext autoreload\n",
    "%autoreload 2"
   ]
  },
  {
   "cell_type": "code",
   "execution_count": 2,
   "metadata": {},
   "outputs": [],
   "source": [
    "import torch\n",
    "\n",
    "from torch_random_fields.utils.misc import chain, make_grid_edges, generate_edges, batch_pad, batch_mask_by_len, batch_lens\n",
    "from torch_random_fields.utils.loopy_belief_propagation import loopy_belief_propagation\n",
    "from torch_random_fields.utils.batch_lbp import batch_lbp"
   ]
  },
  {
   "cell_type": "markdown",
   "metadata": {},
   "source": [
    "Here we construct a batch of sentences, whose lengths are `[10, 8, 5]`.\n",
    "\n",
    "For each sentence whose length is $n$:\n",
    "\n",
    "- the number of unary potentials is $n$\n",
    "\n",
    "- the number of binary potentials is $n-1$"
   ]
  },
  {
   "cell_type": "code",
   "execution_count": 3,
   "metadata": {},
   "outputs": [],
   "source": [
    "n_states = 7\n",
    "sizes = (15, 12, 11, 13)\n",
    "# sizes = np.random.randint(5, 20, size=(3))\n",
    "bsz = len(sizes)\n",
    "max_1_size = max(sizes)\n",
    "max_2_size = max_1_size - 1\n",
    "\n",
    "torch.set_printoptions(precision=2)\n",
    "\n",
    "b1_phis = torch.normal(mean=0.0, std=1.0, size=(bsz, max_1_size, n_states))\n",
    "b1_masks = torch.tensor(batch_mask_by_len(sizes)).bool()\n",
    "\n",
    "edges = [generate_edges(size, 2) for size in sizes]\n",
    "b2_edges = torch.tensor(batch_pad(edges, pad_ele=(0, 0)))\n",
    "b2_phis = torch.normal(mean=0.0, std=1.0, size=(bsz, b2_edges.shape[1], n_states, n_states))\n",
    "b2_masks = torch.tensor(batch_mask_by_len(batch_lens(edges))).bool()\n"
   ]
  },
  {
   "cell_type": "code",
   "execution_count": 4,
   "metadata": {},
   "outputs": [],
   "source": [
    "def non_batch_lbp():\n",
    "    ret = []\n",
    "    for i in range(bsz):\n",
    "        ret.append(loopy_belief_propagation(\n",
    "            unary_potentials=b1_phis[i][:b1_masks.sum(-1)[i]],\n",
    "            binary_potentials=b2_phis[i][:b2_masks.sum(-1)[i]],\n",
    "            binary_edges=b2_edges[i][:b2_masks.sum(-1)[i]],\n",
    "        ).tolist())\n",
    "    ret = batch_pad(ret, -1)\n",
    "    return torch.tensor(ret)"
   ]
  },
  {
   "cell_type": "code",
   "execution_count": 5,
   "metadata": {},
   "outputs": [
    {
     "name": "stdout",
     "output_type": "stream",
     "text": [
      "tensor([[ 3,  3,  4,  4,  6,  1,  5,  2,  4,  0,  4,  5,  0,  2,  0],\n",
      "        [ 2,  6,  1,  1,  3,  1,  5,  3,  4,  0,  1,  0, -1, -1, -1],\n",
      "        [ 3,  1,  5,  6,  6,  0,  1,  2,  3,  1,  1, -1, -1, -1, -1],\n",
      "        [ 5,  0,  1,  4,  3,  2,  1,  3,  6,  2,  3,  6,  2, -1, -1]])\n",
      "tensor([[ 3,  3,  4,  4,  6,  1,  5,  2,  4,  0,  4,  5,  0,  2,  0],\n",
      "        [ 2,  6,  1,  1,  3,  1,  5,  3,  4,  0,  1,  0, -1, -1, -1],\n",
      "        [ 3,  1,  5,  6,  6,  0,  1,  2,  3,  1,  1, -1, -1, -1, -1],\n",
      "        [ 5,  0,  1,  4,  3,  2,  1,  3,  6,  2,  3,  6,  2, -1, -1]])\n",
      "tensor(0)\n"
     ]
    }
   ],
   "source": [
    "_, ret1 = batch_lbp(\n",
    "    bat_unary_potentials=b1_phis,  #\n",
    "    bat_unary_masks=b1_masks,\n",
    "    bat_binary_potentials=b2_phis,\n",
    "    bat_binary_masks=b2_masks,\n",
    "    bat_binary_edges=b2_edges)\n",
    "print(ret1)\n",
    "\n",
    "ret2 = non_batch_lbp()\n",
    "print(ret2)\n",
    "\n",
    "print((ret1 - ret2).sum())"
   ]
  },
  {
   "cell_type": "code",
   "execution_count": 6,
   "metadata": {},
   "outputs": [
    {
     "name": "stdout",
     "output_type": "stream",
     "text": [
      "11.5 ms ± 1.28 ms per loop (mean ± std. dev. of 7 runs, 10 loops each)\n"
     ]
    }
   ],
   "source": [
    "%%timeit -n10\n",
    "batch_lbp(\n",
    "    bat_unary_potentials=b1_phis,\n",
    "    bat_unary_masks=b1_masks,\n",
    "    bat_binary_potentials=b2_phis,\n",
    "    bat_binary_masks=b2_masks,\n",
    "    bat_binary_edges=b2_edges\n",
    ")"
   ]
  },
  {
   "cell_type": "code",
   "execution_count": 8,
   "metadata": {},
   "outputs": [
    {
     "name": "stdout",
     "output_type": "stream",
     "text": [
      "30.3 ms ± 2.28 ms per loop (mean ± std. dev. of 7 runs, 10 loops each)\n"
     ]
    }
   ],
   "source": [
    "%%timeit -n10\n",
    "non_batch_lbp()"
   ]
  }
 ],
 "metadata": {
  "interpreter": {
   "hash": "26e7100929c5974aafe5d65382914e883abf933defba9fccc362b643f50b42c7"
  },
  "kernelspec": {
   "display_name": "Python 3.7.11 ('pystruct3.7')",
   "language": "python",
   "name": "python3"
  },
  "language_info": {
   "codemirror_mode": {
    "name": "ipython",
    "version": 3
   },
   "file_extension": ".py",
   "mimetype": "text/x-python",
   "name": "python",
   "nbconvert_exporter": "python",
   "pygments_lexer": "ipython3",
   "version": "3.7.11"
  },
  "orig_nbformat": 4
 },
 "nbformat": 4,
 "nbformat_minor": 2
}
