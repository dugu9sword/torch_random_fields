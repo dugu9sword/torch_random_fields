{
 "cells": [
  {
   "cell_type": "code",
   "execution_count": 7,
   "metadata": {},
   "outputs": [
    {
     "name": "stdout",
     "output_type": "stream",
     "text": [
      "The autoreload extension is already loaded. To reload it, use:\n",
      "  %reload_ext autoreload\n"
     ]
    }
   ],
   "source": [
    "%load_ext autoreload\n",
    "%autoreload 2\n",
    "\n",
    "import random\n",
    "import torch\n",
    "from torch.utils.data import DataLoader, IterableDataset\n",
    "from pseudo_data import LinearChainDataset"
   ]
  },
  {
   "cell_type": "code",
   "execution_count": 8,
   "metadata": {},
   "outputs": [
    {
     "name": "stdout",
     "output_type": "stream",
     "text": [
      "\n",
      "    This is a dataset simulating sequence labeling in NLP.\n",
      "    An item looks like:\n",
      "        number1 operator number2 = number3\n",
      "    where:\n",
      "    - a number can be: 0.133/-0.133/.333/3.\n",
      "    - the label segments the numbers and operators, following the BMES-style in sequence labeling\n",
      "    \n",
      "=== 0 ===\n",
      "-819.215*-567=-21.359@@@@\n",
      "BMMMMMMESBMMESBMMMMME@@@@\n",
      "=== 1 ===\n",
      ".925+-91.131=148@@@@@@@@@\n",
      "BMMESBMMMMMESBME@@@@@@@@@\n",
      "=== 2 ===\n",
      "-571.170/-.406=-631.@@@@@\n",
      "BMMMMMMESBMMMESBMMME@@@@@\n"
     ]
    }
   ],
   "source": [
    "print(LinearChainDataset.__doc__)\n",
    "dataset = LinearChainDataset(length=25)\n",
    "for i, ele in enumerate(dataset):\n",
    "    nodes, masks, targets = ele\n",
    "    print(f\"=== {i} ===\")\n",
    "    print(dataset.to_sent(nodes))\n",
    "    print(dataset.to_label(targets))\n",
    "    if i == 2:\n",
    "        break"
   ]
  },
  {
   "cell_type": "code",
   "execution_count": 9,
   "metadata": {},
   "outputs": [],
   "source": [
    "dataset = LinearChainDataset(length=100)\n",
    "train_data = DataLoader(dataset, batch_size=20)\n",
    "test_data = DataLoader(dataset, batch_size=100)"
   ]
  },
  {
   "cell_type": "code",
   "execution_count": 14,
   "metadata": {},
   "outputs": [
    {
     "name": "stderr",
     "output_type": "stream",
     "text": [
      "100%|██████████| 301/301 [00:02<00:00, 112.93it/s]\n",
      "100%|██████████| 301/301 [00:02<00:00, 124.94it/s]\n",
      "100%|██████████| 301/301 [00:05<00:00, 55.29it/s]\n",
      "100%|██████████| 301/301 [00:14<00:00, 21.39it/s]"
     ]
    },
    {
     "name": "stdout",
     "output_type": "stream",
     "text": [
      "====== cost ======\n",
      "iteration            100    200    300\n",
      "-----------------  -----  -----  -----\n",
      "piecewise          0.828  0.897  0.919\n",
      "pseudo-likelihood  0.742  0.771  0.861\n",
      "perceptron         1.805  1.745  1.873\n",
      "exact-likelihood   4.882  4.458  4.713\n",
      "====== accu ======\n",
      "iteration            100    200    300\n",
      "-----------------  -----  -----  -----\n",
      "piecewise          0.843  0.876  0.896\n",
      "pseudo-likelihood  0.101  0.801  0.894\n",
      "perceptron         0.393  0.447  0.533\n",
      "exact-likelihood   0.441  0.561  0.699\n"
     ]
    },
    {
     "name": "stderr",
     "output_type": "stream",
     "text": [
      "\n"
     ]
    }
   ],
   "source": [
    "import time\n",
    "from tqdm import tqdm\n",
    "from tabulate import tabulate\n",
    "from torch_random_fields.models import LinearChainCRF\n",
    "from torch_random_fields.models.constants import Inference, Training\n",
    "\n",
    "\n",
    "class Model(torch.nn.Module):\n",
    "    def __init__(self) -> None:\n",
    "        super().__init__()\n",
    "        self.embed = torch.nn.Embedding(num_embeddings=len(dataset.word2idx), embedding_dim=10)\n",
    "        self.pred = torch.nn.Linear(10, len(dataset.label2idx))\n",
    "        self.crf = LinearChainCRF(\n",
    "            len(dataset.label2idx),\n",
    "            low_rank=5,\n",
    "            training=Training.PIECEWISE,\n",
    "            inference=Inference.VITERBI,\n",
    "            feature_size=10,\n",
    "        )\n",
    "\n",
    "    def forward(self, nodes, masks, targets):\n",
    "        feats = self.embed(nodes)\n",
    "        unaries = self.pred(feats)\n",
    "        loss = self.crf(\n",
    "            unaries=unaries,\n",
    "            masks=masks,\n",
    "            node_features=feats,\n",
    "            targets=targets,\n",
    "        )\n",
    "        return loss\n",
    "\n",
    "    def decode(self, nodes, masks):\n",
    "        return self(nodes, masks, None)[1]\n",
    "\n",
    "    def evaulate(self, nodes, masks, targets):\n",
    "        pred = self(nodes, masks, None)[1]\n",
    "        pred.masked_fill_(~masks, dataset.label2idx[dataset.pad])\n",
    "        corr = pred == targets\n",
    "        accu = corr[masks].sum() / masks.sum()\n",
    "        return accu\n",
    "\n",
    "\n",
    "cost_table = []\n",
    "accu_table = []\n",
    "\n",
    "for training in [Training.PIECEWISE, Training.PSEUDO_LIKELIHOOD, Training.PERCEPTRON, Training.EXACT_LIKELIHOOD]:\n",
    "    # for training in [Training.PERCEPTRON]:\n",
    "    cost_table.append([training])\n",
    "    accu_table.append([training])\n",
    "\n",
    "    model = Model()\n",
    "    model.crf.training = training\n",
    "    opt = torch.optim.Adam(model.parameters(), lr=0.001)\n",
    "\n",
    "    last_time = time.time()\n",
    "    for i in tqdm(range(301)):\n",
    "        nodes, masks, targets = next(iter(train_data))\n",
    "        loss = model(nodes, masks, targets)\n",
    "        opt.zero_grad()\n",
    "        loss.backward()\n",
    "        opt.step()\n",
    "        if i > 0 and i % 100 == 0:\n",
    "            current_time = time.time()\n",
    "            cost_time = current_time - last_time\n",
    "            last_time = current_time\n",
    "            accu = model.evaulate(*next(iter(test_data)))\n",
    "            cost_table[-1].append(cost_time)\n",
    "            accu_table[-1].append(accu)\n",
    "\n",
    "headers = [\"iteration\"] + [str(i * 100) for i in range(1, len(cost_table[0]) + 1)]\n",
    "print(\"====== cost ======\")\n",
    "print(tabulate(cost_table, headers=headers, floatfmt=\".3f\"))\n",
    "print(\"====== accu ======\")\n",
    "print(tabulate(accu_table, headers=headers, floatfmt=\".3f\"))\n"
   ]
  },
  {
   "cell_type": "code",
   "execution_count": 15,
   "metadata": {},
   "outputs": [
    {
     "name": "stderr",
     "output_type": "stream",
     "text": [
      "100%|██████████| 701/701 [00:08<00:00, 85.61it/s] "
     ]
    },
    {
     "name": "stdout",
     "output_type": "stream",
     "text": [
      "====== cost ======\n",
      "iteration           100    200    300    400    500    600    700\n",
      "----------------  -----  -----  -----  -----  -----  -----  -----\n",
      "viterbi           0.025  0.076  0.025  0.023  0.021  0.021  0.023\n",
      "batch-mean-field  0.024  0.066  0.022  0.017  0.018  0.017  0.016\n",
      "====== accu ======\n",
      "iteration           100    200    300    400    500    600    700\n",
      "----------------  -----  -----  -----  -----  -----  -----  -----\n",
      "viterbi           0.849  0.874  0.922  0.939  0.948  0.954  0.958\n",
      "batch-mean-field  0.850  0.865  0.892  0.900  0.918  0.923  0.938\n"
     ]
    },
    {
     "name": "stderr",
     "output_type": "stream",
     "text": [
      "\n"
     ]
    }
   ],
   "source": [
    "cost_table = []\n",
    "accu_table = []\n",
    "\n",
    "INFERENCE_METHODS = [Inference.VITERBI, Inference.BATCH_MEAN_FIELD]\n",
    "for inference in INFERENCE_METHODS:\n",
    "    cost_table.append([inference])\n",
    "    accu_table.append([inference])\n",
    "\n",
    "model = Model()\n",
    "opt = torch.optim.Adam(model.parameters(), lr=0.001)\n",
    "\n",
    "for i in tqdm(range(701)):\n",
    "    nodes, masks, targets = next(iter(train_data))\n",
    "    loss = model(nodes, masks, targets)\n",
    "    opt.zero_grad()\n",
    "    loss.backward()\n",
    "    opt.step()\n",
    "    if i > 0 and i % 100 == 0:\n",
    "        for inference in INFERENCE_METHODS:\n",
    "            last_time = time.time()\n",
    "            model.crf.inference = inference\n",
    "            accu = model.evaulate(*next(iter(test_data)))\n",
    "            cost_time = time.time() - last_time\n",
    "\n",
    "            cost_table[INFERENCE_METHODS.index(inference)].append(cost_time)\n",
    "            accu_table[INFERENCE_METHODS.index(inference)].append(accu)\n",
    "\n",
    "headers = [\"iteration\"] + [str(i * 100) for i in range(1, len(cost_table[0]) + 1)]\n",
    "print(\"====== cost ======\")\n",
    "print(tabulate(cost_table, headers=headers, floatfmt=\".3f\"))\n",
    "print(\"====== accu ======\")\n",
    "print(tabulate(accu_table, headers=headers, floatfmt=\".3f\"))"
   ]
  }
 ],
 "metadata": {
  "kernelspec": {
   "display_name": "Python 3.7.11 ('pystruct3.7')",
   "language": "python",
   "name": "python3"
  },
  "language_info": {
   "codemirror_mode": {
    "name": "ipython",
    "version": 3
   },
   "file_extension": ".py",
   "mimetype": "text/x-python",
   "name": "python",
   "nbconvert_exporter": "python",
   "pygments_lexer": "ipython3",
   "version": "3.7.11"
  },
  "orig_nbformat": 4,
  "vscode": {
   "interpreter": {
    "hash": "26e7100929c5974aafe5d65382914e883abf933defba9fccc362b643f50b42c7"
   }
  }
 },
 "nbformat": 4,
 "nbformat_minor": 2
}
