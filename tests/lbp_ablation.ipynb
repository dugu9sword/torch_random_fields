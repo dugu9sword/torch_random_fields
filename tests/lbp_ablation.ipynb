{
 "cells": [
  {
   "cell_type": "code",
   "execution_count": 2,
   "metadata": {},
   "outputs": [],
   "source": [
    "%load_ext autoreload\n",
    "%autoreload 2\n",
    "\n",
    "import sys\n",
    "sys.path.append(\"..\")"
   ]
  },
  {
   "cell_type": "code",
   "execution_count": 3,
   "metadata": {},
   "outputs": [],
   "source": [
    "from functools import partial\n",
    "\n",
    "import torch\n",
    "import einops\n",
    "from matplotlib import pyplot as plt\n",
    "\n",
    "from torch_random_fields.utils.misc import compute_energy, make_grid_edges, local_seed\n",
    "from torch_random_fields.utils.loopy_belief_propagation import loopy_belief_propagation"
   ]
  },
  {
   "cell_type": "markdown",
   "metadata": {},
   "source": [
    "# Fast Implementation of LBP"
   ]
  },
  {
   "cell_type": "markdown",
   "metadata": {},
   "source": [
    "## Tests on Potts Model"
   ]
  },
  {
   "cell_type": "code",
   "execution_count": 4,
   "metadata": {},
   "outputs": [],
   "source": [
    "POTTS = 'POTTS'\n",
    "CURRENT_CELL = POTTS\n",
    "\n",
    "size = 10\n",
    "n_states = 10\n",
    "\n",
    "with local_seed(2):\n",
    "    x = torch.normal(mean=0.0, std=1.0, size=(size, size, n_states))\n",
    "    binary_edges = torch.tensor(make_grid_edges(x))\n",
    "    binary_potentials = torch.normal(mean=0.0, std=1.0, size=(binary_edges.shape[0], n_states, n_states))\n",
    "    unary_potentials = x.reshape(-1, n_states)\n",
    "    args = (unary_potentials, binary_potentials, binary_edges)\n",
    "    E = partial(compute_energy, *args)"
   ]
  },
  {
   "cell_type": "markdown",
   "metadata": {},
   "source": [
    "### Benchmark on different methods"
   ]
  },
  {
   "cell_type": "code",
   "execution_count": 4,
   "metadata": {},
   "outputs": [
    {
     "name": "stdout",
     "output_type": "stream",
     "text": [
      "8.92 ms ± 326 µs per loop (mean ± std. dev. of 7 runs, 100 loops each)\n",
      "26.1 ms ± 917 µs per loop (mean ± std. dev. of 7 runs, 10 loops each)\n"
     ]
    }
   ],
   "source": [
    "assert CURRENT_CELL == POTTS\n",
    "\n",
    "%timeit loopy_belief_propagation(*args)\n",
    "%timeit loopy_belief_propagation(*args, max_iter=30)"
   ]
  },
  {
   "cell_type": "code",
   "execution_count": 5,
   "metadata": {},
   "outputs": [
    {
     "name": "stdout",
     "output_type": "stream",
     "text": [
      "tensor([5, 4, 7, 1, 0, 2, 7, 9, 8, 1, 3, 9, 6, 4, 9, 1, 1, 0, 5, 1, 7, 7, 2, 4,\n",
      "        2, 4, 6, 6, 3, 4, 8, 4, 9, 0, 8, 4, 2, 3, 2, 5, 0, 2, 9, 5, 0, 8, 8, 3,\n",
      "        6, 4, 7, 8, 0, 9, 4, 6, 0, 3, 5, 2, 5, 0, 0, 5, 2, 4, 6, 2, 8, 6, 7, 5,\n",
      "        6, 2, 4, 2, 5, 9, 1, 1, 0, 9, 5, 7, 8, 1, 8, 2, 4, 0, 2, 5, 6, 7, 1, 9,\n",
      "        7, 8, 7, 2])\n",
      "tensor(269.6953)\n"
     ]
    }
   ],
   "source": [
    "labels = loopy_belief_propagation(\n",
    "    unary_potentials, \n",
    "    binary_potentials, \n",
    "    binary_edges, \n",
    ")\n",
    "print(labels)\n",
    "print(E(labels=labels))"
   ]
  },
  {
   "cell_type": "code",
   "execution_count": 6,
   "metadata": {},
   "outputs": [
    {
     "name": "stdout",
     "output_type": "stream",
     "text": [
      "parallel\n",
      "tensor(269.6953)\n",
      "tensor(285.8254)\n",
      "tensor(297.4042)\n"
     ]
    }
   ],
   "source": [
    "assert CURRENT_CELL == POTTS\n",
    "\n",
    "# larger is better\n",
    "print(\"parallel\")\n",
    "print(E(labels=loopy_belief_propagation(*args)))\n",
    "print(E(labels=loopy_belief_propagation(*args, track_best=True)))\n",
    "print(E(labels=loopy_belief_propagation(*args, max_iter=30, track_best=True)))"
   ]
  },
  {
   "cell_type": "markdown",
   "metadata": {},
   "source": [
    "### Benchmark on different hyper-parameters"
   ]
  },
  {
   "cell_type": "code",
   "execution_count": 8,
   "metadata": {},
   "outputs": [
    {
     "name": "stderr",
     "output_type": "stream",
     "text": [
      "/Users/admin/opt/miniconda3/envs/pystruct3.7/lib/python3.7/site-packages/ipykernel_launcher.py:17: UserWarning: FixedFormatter should only be used together with FixedLocator\n",
      "/Users/admin/opt/miniconda3/envs/pystruct3.7/lib/python3.7/site-packages/ipykernel_launcher.py:18: UserWarning: FixedFormatter should only be used together with FixedLocator\n"
     ]
    },
    {
     "data": {
      "text/plain": [
       "<matplotlib.colorbar.Colorbar at 0x7fc479071910>"
      ]
     },
     "execution_count": 8,
     "metadata": {},
     "output_type": "execute_result"
    },
    {
     "data": {
      "image/png": "[encoded data removed]",
      "text/plain": [
       "<Figure size 432x288 with 2 Axes>"
      ]
     },
     "metadata": {
      "needs_background": "light"
     },
     "output_type": "display_data"
    }
   ],
   "source": [
    "assert CURRENT_CELL == POTTS\n",
    "\n",
    "iters = [2, 5, 10, 20, 40]\n",
    "dampings = [0.1, 0.3, 0.4, 0.5, 0.6, 0.7, 0.9]\n",
    "energies = torch.zeros(size=[len(iters), len(dampings)])\n",
    "\n",
    "for i, iter_num in enumerate(iters):\n",
    "    for j, damping in enumerate(dampings):\n",
    "        res = loopy_belief_propagation(*args, max_iter=iter_num, damping=damping)\n",
    "        energies[i][j] = compute_energy(*args, labels=res)\n",
    "\n",
    "fig, ax = plt.subplots(1,1)\n",
    "\n",
    "ax.imshow(energies)\n",
    "img = ax.imshow(energies)\n",
    "\n",
    "ax.set_yticklabels(list(map(str, [None] + iters)))\n",
    "ax.set_xticklabels(list(map(str, [None] + dampings)))\n",
    "\n",
    "plt.colorbar(img)"
   ]
  },
  {
   "cell_type": "markdown",
   "metadata": {},
   "source": [
    "## Tests on Easy Linear-Chain\n",
    "\n",
    "Only adajcent nodes have binary potentials, which should have exact solution (Viterbi)."
   ]
  },
  {
   "cell_type": "code",
   "execution_count": 9,
   "metadata": {},
   "outputs": [],
   "source": [
    "EAXCT_LINEAR_CHAIN = 'EAXCT_LINEAR_CHAIN'\n",
    "CURRENT_CELL = EAXCT_LINEAR_CHAIN\n",
    "\n",
    "size = 25\n",
    "n_states = 32\n",
    "\n",
    "with local_seed(2):\n",
    "    unary_potentials = torch.abs(torch.normal(mean=0, std=1, size=(size, n_states)))\n",
    "\n",
    "    binary_edges = torch.tensor([[i, i+1] for i in range(size - 1)])\n",
    "    binary_potentials = torch.abs(torch.normal(mean=0, std=2, size=(binary_edges.shape[0], n_states, n_states)))\n",
    "\n",
    "    args = (unary_potentials, binary_potentials, binary_edges)\n",
    "    E = partial(compute_energy, *args)"
   ]
  },
  {
   "cell_type": "code",
   "execution_count": 13,
   "metadata": {},
   "outputs": [
    {
     "name": "stdout",
     "output_type": "stream",
     "text": [
      "8.05 ms ± 340 µs per loop (mean ± std. dev. of 7 runs, 100 loops each)\n",
      "12.3 ms ± 3.89 ms per loop (mean ± std. dev. of 7 runs, 100 loops each)\n"
     ]
    }
   ],
   "source": [
    "assert CURRENT_CELL == EAXCT_LINEAR_CHAIN\n",
    "\n",
    "# %timeit inference_max_product(*args)   # should be viterbi\n",
    "%timeit loopy_belief_propagation(*args)\n",
    "%timeit loopy_belief_propagation(*args, track_best=True)"
   ]
  },
  {
   "cell_type": "code",
   "execution_count": 10,
   "metadata": {},
   "outputs": [
    {
     "name": "stdout",
     "output_type": "stream",
     "text": [
      "lbp\n",
      "tensor(164.7443)\n",
      "tensor(164.7443)\n",
      "tensor(164.7443)\n"
     ]
    }
   ],
   "source": [
    "assert CURRENT_CELL == EAXCT_LINEAR_CHAIN\n",
    "\n",
    "# benchmark on accuracy\n",
    "# print(\"viterbi\")\n",
    "# print(E(labels=inference_max_product(*args)))  # should be viterbi\n",
    "# print(E(labels=tree_max_product(*args)))  # should be viterbi\n",
    "print(\"lbp\")\n",
    "print(E(labels=loopy_belief_propagation(*args)))\n",
    "print(E(labels=loopy_belief_propagation(*args, max_iter=30, track_best=True)))\n",
    "print(E(labels=loopy_belief_propagation(*args, track_best=True)))"
   ]
  },
  {
   "cell_type": "code",
   "execution_count": 11,
   "metadata": {},
   "outputs": [
    {
     "data": {
      "text/plain": [
       "<matplotlib.legend.Legend at 0x7fc4914c7f90>"
      ]
     },
     "execution_count": 11,
     "metadata": {},
     "output_type": "execute_result"
    },
    {
     "data": {
      "image/png": "[encoded data removed]",
      "text/plain": [
       "<Figure size 432x288 with 1 Axes>"
      ]
     },
     "metadata": {
      "needs_background": "light"
     },
     "output_type": "display_data"
    }
   ],
   "source": [
    "assert CURRENT_CELL == EAXCT_LINEAR_CHAIN\n",
    "\n",
    "iter_nums = list(range(3, 30, 3))\n",
    "for damping in [0.3, 0.5, 0.7]:\n",
    "    energies = []\n",
    "    for iter_num in iter_nums:\n",
    "        energies.append(E(labels=loopy_belief_propagation(*args, max_iter=iter_num, damping=damping)))\n",
    "    plt.plot(iter_nums, energies, label=f'parallel, damping={damping}')\n",
    "\n",
    "energies = []\n",
    "for iter_num in iter_nums:\n",
    "    energies.append(E(labels=loopy_belief_propagation(*args, max_iter=iter_num, damping=0.5, track_best=True)))\n",
    "plt.plot(iter_nums, energies, label='parallel, trackbest')\n",
    "\n",
    "plt.legend()"
   ]
  },
  {
   "cell_type": "markdown",
   "metadata": {},
   "source": [
    "## Tests on skip binary linear chain\n",
    "\n",
    "A-B-C-D-E\n",
    "\n",
    "- skip-0 binaries: A-B, B-C, ...\n",
    "- skip-1 binaries: A-C, B-D, ...\n",
    "- skip-2 binaries: A-D, B-E, ..."
   ]
  },
  {
   "cell_type": "code",
   "execution_count": 12,
   "metadata": {},
   "outputs": [],
   "source": [
    "SKIP_BINARY_LINEAR_CHAIN = 'SKIP_BINARY_LINEAR_CHAIN'\n",
    "CURRENT_CELL = SKIP_BINARY_LINEAR_CHAIN\n",
    "\n",
    "size = 25\n",
    "n_states = 32\n",
    "\n",
    "with local_seed(2):\n",
    "    unary_potentials = torch.abs(torch.normal(mean=0, std=1, size=(size, n_states)))\n",
    "\n",
    "    binary_edges = torch.tensor(\n",
    "        [[i, i+1] for i in range(size - 1)] + #\n",
    "        [[i, i+2] for i in range(size - 2)] + #\n",
    "        [[i, i+3] for i in range(size - 3)] \n",
    "    )\n",
    "    binary_potentials = torch.abs(torch.normal(mean=0, std=2, size=(binary_edges.shape[0], n_states, n_states))) * 2\n",
    "\n",
    "    args = (unary_potentials, binary_potentials, binary_edges)\n",
    "    E = partial(compute_energy, *args)"
   ]
  },
  {
   "cell_type": "code",
   "execution_count": 19,
   "metadata": {},
   "outputs": [
    {
     "name": "stdout",
     "output_type": "stream",
     "text": [
      "10.7 ms ± 879 µs per loop (mean ± std. dev. of 7 runs, 100 loops each)\n",
      "32.6 ms ± 702 µs per loop (mean ± std. dev. of 7 runs, 10 loops each)\n"
     ]
    }
   ],
   "source": [
    "assert CURRENT_CELL == SKIP_BINARY_LINEAR_CHAIN\n",
    "\n",
    "%timeit loopy_belief_propagation(*args)\n",
    "%timeit loopy_belief_propagation(*args, max_iter=30, track_best=True)\n"
   ]
  },
  {
   "cell_type": "code",
   "execution_count": 13,
   "metadata": {},
   "outputs": [
    {
     "name": "stdout",
     "output_type": "stream",
     "text": [
      "tensor(493.1441)\n",
      "tensor(499.3349)\n",
      "tensor(504.4357)\n",
      "tensor(504.4357)\n"
     ]
    }
   ],
   "source": [
    "assert CURRENT_CELL == SKIP_BINARY_LINEAR_CHAIN\n",
    "\n",
    "print(E(labels=loopy_belief_propagation(*args)))\n",
    "print(E(labels=loopy_belief_propagation(*args, track_best=True)))\n",
    "print(E(labels=loopy_belief_propagation(*args, max_iter=30, track_best=True)))\n",
    "print(E(labels=loopy_belief_propagation(*args, max_iter=60, track_best=True)))"
   ]
  },
  {
   "cell_type": "code",
   "execution_count": 14,
   "metadata": {},
   "outputs": [
    {
     "data": {
      "text/plain": [
       "<matplotlib.legend.Legend at 0x7fc480f34a90>"
      ]
     },
     "execution_count": 14,
     "metadata": {},
     "output_type": "execute_result"
    },
    {
     "data": {
      "image/png": "[encoded data removed]",
      "text/plain": [
       "<Figure size 432x288 with 1 Axes>"
      ]
     },
     "metadata": {
      "needs_background": "light"
     },
     "output_type": "display_data"
    }
   ],
   "source": [
    "assert CURRENT_CELL == SKIP_BINARY_LINEAR_CHAIN\n",
    "\n",
    "iter_nums = list(range(3, 60, 3))\n",
    "for damping in [0.3, 0.5, 0.7]:\n",
    "    energies = []\n",
    "    for iter_num in iter_nums:\n",
    "        energies.append(E(labels=loopy_belief_propagation(*args, max_iter=iter_num, damping=damping)))\n",
    "    plt.plot(iter_nums, energies, label=f'parallel, damping={damping}')\n",
    "\n",
    "energies = []\n",
    "for iter_num in iter_nums:\n",
    "    energies.append(E(labels=loopy_belief_propagation(*args, max_iter=iter_num, damping=0.5, track_best=True)))\n",
    "plt.plot(iter_nums, energies, label='parallel, trackbest')\n",
    "\n",
    "plt.legend()"
   ]
  },
  {
   "cell_type": "markdown",
   "metadata": {},
   "source": [
    "# Implementation of LBP with Ternary Potentials\n",
    "\n",
    "A-B-C-D-E\n",
    "\n",
    "- binaries: A-B, B-C, ...\n",
    "- ternaries: A-B-C, B-C-D, ..."
   ]
  },
  {
   "cell_type": "code",
   "execution_count": 15,
   "metadata": {},
   "outputs": [],
   "source": [
    "TERNARY_LINEAR_CHAIN = 'TERNARY_LINEAR_CHAIN'\n",
    "CURRENT_CELL = TERNARY_LINEAR_CHAIN\n",
    "\n",
    "\n",
    "size = 25\n",
    "n_states = 32\n",
    "\n",
    "with local_seed(2):\n",
    "    x = torch.abs(torch.normal(mean=0, std=1, size=(size, size, n_states)))\n",
    "    unary_potentials = x.reshape(-1, n_states)\n",
    "\n",
    "    binary_edges = torch.tensor([[i, i+1] for i in range(size - 1)])\n",
    "    binary_potentials = torch.abs(torch.normal(mean=0, std=2, size=(binary_edges.shape[0], n_states, n_states))) * 2\n",
    "\n",
    "    ternary_edges = torch.tensor([[i, i+1, i+2] for i in range(size - 2)])\n",
    "    ternary_potentials = torch.abs(torch.normal(mean=0, std=4, size=(ternary_edges.shape[0], n_states, n_states, n_states))) * 2\n"
   ]
  },
  {
   "cell_type": "code",
   "execution_count": 16,
   "metadata": {},
   "outputs": [
    {
     "name": "stdout",
     "output_type": "stream",
     "text": [
      "unary+binary+ternary tensor(1909.8806)\n",
      "unary+binary+ternary tensor(1960.1089)\n",
      "unary+binary+ternary tensor(2017.4580)\n"
     ]
    }
   ],
   "source": [
    "assert CURRENT_CELL == TERNARY_LINEAR_CHAIN\n",
    "\n",
    "bin_args = (unary_potentials, binary_potentials, binary_edges)\n",
    "ter_args = (unary_potentials, binary_potentials, binary_edges, ternary_potentials, ternary_edges)\n",
    "\n",
    "label_unary_binary_ternary = loopy_belief_propagation(*ter_args, damping=0.5)\n",
    "print(\"unary+binary+ternary\", compute_energy(*ter_args, label_unary_binary_ternary))\n",
    "\n",
    "label_unary_binary_ternary = loopy_belief_propagation(*ter_args, max_iter=10, damping=0.5, track_best=True)\n",
    "print(\"unary+binary+ternary\", compute_energy(*ter_args, label_unary_binary_ternary))\n",
    "\n",
    "label_unary_binary_ternary = loopy_belief_propagation(*ter_args, max_iter=30, damping=0.5, track_best=True)\n",
    "print(\"unary+binary+ternary\", compute_energy(*ter_args, label_unary_binary_ternary))"
   ]
  },
  {
   "cell_type": "code",
   "execution_count": 17,
   "metadata": {},
   "outputs": [
    {
     "name": "stdout",
     "output_type": "stream",
     "text": [
      "unary tensor(1660.4791)\n",
      "unary+binary tensor(1827.9442)\n",
      "unary+binary+ternary tensor(1909.8806)\n",
      "unary+binary+ternary tensor(1960.1089)\n",
      "unary+binary+ternary tensor(2017.4580)\n"
     ]
    }
   ],
   "source": [
    "assert CURRENT_CELL == TERNARY_LINEAR_CHAIN\n",
    "\n",
    "bin_args = (unary_potentials, binary_potentials, binary_edges)\n",
    "ter_args = (unary_potentials, binary_potentials, binary_edges, ternary_potentials, ternary_edges)\n",
    "\n",
    "label_unary = unary_potentials.argmax(axis=1)\n",
    "print(\"unary\", compute_energy(*ter_args, label_unary))\n",
    "\n",
    "label_unary_binary = loopy_belief_propagation(*bin_args)\n",
    "print(\"unary+binary\", compute_energy(*ter_args, label_unary_binary))\n",
    "\n",
    "label_unary_binary_ternary = loopy_belief_propagation(*ter_args, damping=0.5)\n",
    "print(\"unary+binary+ternary\", compute_energy(*ter_args, label_unary_binary_ternary))\n",
    "\n",
    "label_unary_binary_ternary = loopy_belief_propagation(*ter_args, max_iter=10, damping=0.5, track_best=True)\n",
    "print(\"unary+binary+ternary\", compute_energy(*ter_args, label_unary_binary_ternary))\n",
    "\n",
    "label_unary_binary_ternary = loopy_belief_propagation(*ter_args, max_iter=30, damping=0.5, track_best=True)\n",
    "print(\"unary+binary+ternary\", compute_energy(*ter_args, label_unary_binary_ternary))\n"
   ]
  }
 ],
 "metadata": {
  "interpreter": {
   "hash": "26e7100929c5974aafe5d65382914e883abf933defba9fccc362b643f50b42c7"
  },
  "kernelspec": {
   "display_name": "Python 3.7.11 ('pystruct3.7')",
   "language": "python",
   "name": "python3"
  },
  "language_info": {
   "codemirror_mode": {
    "name": "ipython",
    "version": 3
   },
   "file_extension": ".py",
   "mimetype": "text/x-python",
   "name": "python",
   "nbconvert_exporter": "python",
   "pygments_lexer": "ipython3",
   "version": "3.7.11"
  },
  "orig_nbformat": 4
 },
 "nbformat": 4,
 "nbformat_minor": 2
}
